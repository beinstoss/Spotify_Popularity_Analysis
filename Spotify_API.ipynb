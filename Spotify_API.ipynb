{
  "nbformat": 4,
  "nbformat_minor": 0,
  "metadata": {
    "colab": {
      "name": "Spotify_API.ipynb",
      "provenance": [],
      "collapsed_sections": [
        "CP1OQt6hSrOr"
      ],
      "toc_visible": true
    },
    "kernelspec": {
      "display_name": "Python 3",
      "name": "python3"
    }
  },
  "cells": [
    {
      "cell_type": "markdown",
      "metadata": {
        "id": "CP1OQt6hSrOr"
      },
      "source": [
        "# Set Imports & Configurations"
      ]
    },
    {
      "cell_type": "code",
      "metadata": {
        "colab": {
          "base_uri": "https://localhost:8080/"
        },
        "id": "lh__NN6Dwn45",
        "outputId": "7454fb3d-2f62-4426-8153-a67300708770"
      },
      "source": [
        "from google.colab import drive\n",
        "drive.mount('/content/drive')"
      ],
      "execution_count": null,
      "outputs": [
        {
          "output_type": "stream",
          "text": [
            "Mounted at /content/drive\n"
          ],
          "name": "stdout"
        }
      ]
    },
    {
      "cell_type": "code",
      "metadata": {
        "id": "36C1bZ0OA0nW",
        "colab": {
          "base_uri": "https://localhost:8080/"
        },
        "outputId": "07cc53e2-c5b3-47d6-ca43-d387ab0e3fa4"
      },
      "source": [
        "# This line will install the spotify API if not installed yet.\n",
        "!pip install spotipy"
      ],
      "execution_count": null,
      "outputs": [
        {
          "output_type": "stream",
          "text": [
            "Collecting spotipy\n",
            "  Downloading https://files.pythonhosted.org/packages/7a/cd/e7d9a35216ea5bfb9234785f3d8fa7c96d0e33999c2cb72394128f6b4cce/spotipy-2.16.1-py3-none-any.whl\n",
            "Requirement already satisfied: requests>=2.20.0 in /usr/local/lib/python3.6/dist-packages (from spotipy) (2.23.0)\n",
            "Requirement already satisfied: six>=1.10.0 in /usr/local/lib/python3.6/dist-packages (from spotipy) (1.15.0)\n",
            "Requirement already satisfied: urllib3!=1.25.0,!=1.25.1,<1.26,>=1.21.1 in /usr/local/lib/python3.6/dist-packages (from requests>=2.20.0->spotipy) (1.24.3)\n",
            "Requirement already satisfied: chardet<4,>=3.0.2 in /usr/local/lib/python3.6/dist-packages (from requests>=2.20.0->spotipy) (3.0.4)\n",
            "Requirement already satisfied: idna<3,>=2.5 in /usr/local/lib/python3.6/dist-packages (from requests>=2.20.0->spotipy) (2.10)\n",
            "Requirement already satisfied: certifi>=2017.4.17 in /usr/local/lib/python3.6/dist-packages (from requests>=2.20.0->spotipy) (2020.12.5)\n",
            "Installing collected packages: spotipy\n",
            "Successfully installed spotipy-2.16.1\n"
          ],
          "name": "stdout"
        }
      ]
    },
    {
      "cell_type": "code",
      "metadata": {
        "id": "EpXYn2rO_xuq",
        "colab": {
          "base_uri": "https://localhost:8080/"
        },
        "outputId": "bb217454-aa26-4e67-ee13-3db21f671c52"
      },
      "source": [
        "# All imports and configurations needed\n",
        "import spotipy, pandas as pd, os, json, sys, timeit, matplotlib.pyplot as plt\n",
        "from spotipy.oauth2 import SpotifyClientCredentials\n",
        "from IPython.display import Image\n",
        "import urllib.request\n",
        "\n",
        "CLIENT_ID = '0334096aa9004802afe7d5caf79aeb95'\n",
        "CLIENT_SECRET = 'd5e962e82f834f068269378209c5f83e'\n",
        "\n",
        "base_dir = '/content/drive/My Drive/BUAN6505 Final Project Folder/Data'\n",
        "\n",
        "token = spotipy.oauth2.SpotifyClientCredentials(client_id=CLIENT_ID, client_secret=CLIENT_SECRET)\n",
        "cache_token = token.get_access_token()\n",
        "sp = spotipy.Spotify(cache_token)"
      ],
      "execution_count": null,
      "outputs": [
        {
          "output_type": "stream",
          "text": [
            "/usr/local/lib/python3.6/dist-packages/ipykernel_launcher.py:13: DeprecationWarning: You're using 'as_dict = True'.get_access_token will return the token string directly in future versions. Please adjust your code accordingly, or use get_cached_token instead.\n",
            "  del sys.path[0]\n"
          ],
          "name": "stderr"
        }
      ]
    },
    {
      "cell_type": "markdown",
      "metadata": {
        "id": "HaWVcC5IQE94"
      },
      "source": [
        "#Get Metadata by Year"
      ]
    },
    {
      "cell_type": "code",
      "metadata": {
        "id": "vC33CnEiGu2E"
      },
      "source": [
        "\"\"\"\n",
        "Input:\n",
        "  - List of years to pull songs from\n",
        "Returns:\n",
        "  - DataFrame with song meta data (including Popularity) for each year passed\n",
        "  - Please see Data Dictionary for definition of fields\n",
        "\"\"\"\n",
        "def get_yearly_data(year_lst):\n",
        "  if not isinstance(year_lst,list):\n",
        "    year_lst = [year_lst]\n",
        "\n",
        "  results_df = pd.DataFrame()\n",
        "  audio_features_df = pd.DataFrame()\n",
        "  for year in year_lst:\n",
        "    for i in range(0,1500,50):\n",
        "      try:\n",
        "        track_results = sp.search(q='year:' + str(year), type='track', limit=50,offset=i)\n",
        "\n",
        "        for i, t in enumerate(track_results['tracks']['items']):\n",
        "            results_df = results_df.append({'artist':t['artists'][0]['name'],\n",
        "                                            'track_name':t['name'],\n",
        "                                            'id':t['id'],\n",
        "                                            'popularity':t['popularity'],\n",
        "                                            'year':str(year),\n",
        "                                            'genre':sp.artist(t[\"artists\"][0][\"external_urls\"][\"spotify\"])['genres'][0]},\n",
        "                                            ignore_index=True)\n",
        "            # Get audio features\n",
        "            audio_features = sp.audio_features(t['id'])[0]\n",
        "            for k,v in audio_features.items():\n",
        "              audio_features[k] = v \n",
        "            audio_features_df = audio_features_df.append(audio_features,ignore_index=True)\n",
        "      except:\n",
        "        pass\n",
        "  results_df = results_df.merge(audio_features_df,on='id',how='left')\n",
        "  return results_df\n",
        "\n"
      ],
      "execution_count": null,
      "outputs": []
    },
    {
      "cell_type": "code",
      "metadata": {
        "id": "PxvDbWcQbJEu"
      },
      "source": [
        "# Start timer\n",
        "start = timeit.default_timer()\n",
        "\n",
        "# Run function\n",
        "data_pull = get_yearly_data(list(range(2008,2021)))\n",
        "\n",
        "# Stop timer\n",
        "stop = timeit.default_timer()\n",
        "print('Time to run this code (in seconds):', round(stop - start,2))"
      ],
      "execution_count": null,
      "outputs": []
    },
    {
      "cell_type": "code",
      "metadata": {
        "id": "SGnvdEeF_AFm"
      },
      "source": [
        "# Send to csv\n",
        "# data_pull.to_csv(os.path.join(base_dir,'Playlist_Data_testing.csv'),index=False)"
      ],
      "execution_count": null,
      "outputs": []
    }
  ]
}